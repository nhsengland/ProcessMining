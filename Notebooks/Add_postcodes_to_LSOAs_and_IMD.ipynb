{
 "cells": [
  {
   "cell_type": "code",
   "execution_count": null,
   "metadata": {},
   "outputs": [],
   "source": [
    "# Geospatial practice\n",
    "# turn postcodes into lsoas"
   ]
  },
  {
   "cell_type": "code",
   "execution_count": null,
   "metadata": {},
   "outputs": [],
   "source": [
    "# import \n",
    "import folium\n",
    "import geopandas as gpd\n",
    "import math\n",
    "import matplotlib.pyplot as plt\n",
    "import numpy as np\n",
    "import os\n",
    "import pandas as pd\n",
    "import urllib.request\n",
    "import zipfile"
   ]
  },
  {
   "cell_type": "code",
   "execution_count": null,
   "metadata": {},
   "outputs": [],
   "source": [
    "os.makedirs('source', exist_ok=True)\n",
    "os.makedirs('data', exist_ok=True)"
   ]
  },
  {
   "cell_type": "code",
   "execution_count": null,
   "metadata": {},
   "outputs": [],
   "source": [
    "# fake dataframe to use for postcode to LSOA IMD creation\n",
    "\n",
    "# Data\n",
    "data = {\n",
    "    'name': ['John Doe', 'Jane Smith', 'Alice Brown', 'Bob White', 'Nas Gupta'],\n",
    "    'address': ['123 Elm St', '456 Oak St', '789 Pine St', '101 Maple St', '202 Birch St'],\n",
    "    'Incident Postcode': ['LE15 6dt', 'LE15 6aj', 'le5 4PW', 'LE1 5WW', 'LE15 6AS'],\n",
    "    'age': [28, 35, 42, 55, 61],\n",
    "    'ethnicity': ['White', 'Black', 'Asian', 'White', 'Indian']\n",
    "}\n",
    "\n",
    "# Create dataframe\n",
    "df = pd.DataFrame(data)\n",
    "\n",
    "df['Incident Postcode'] = df['Incident Postcode'].str.upper()\n",
    "\n",
    "# Display dataframe\n",
    "print(df)"
   ]
  },
  {
   "cell_type": "code",
   "execution_count": null,
   "metadata": {},
   "outputs": [],
   "source": [
    "# Global variables - downloading function for use with large downloading datasets\n",
    "cache_path = os.path.join(os.getcwd(), \"cache\") # path for downloading data to\n",
    "\n",
    "def fetch(url, relative_path):\n",
    "    \"\"\"If a file has already been downloaded, fetch it from the cache, otherwise download it. Returns a path to\n",
    "       the downloaded data\"\"\"\n",
    "    if not os.path.exists(cache_path):\n",
    "        os.makedirs(cache_path)\n",
    "    file_path = os.path.join(cache_path, relative_path)\n",
    "    if not os.path.exists(file_path):\n",
    "        urllib.request.urlretrieve(url, file_path)\n",
    "    return file_path"
   ]
  },
  {
   "cell_type": "code",
   "execution_count": null,
   "metadata": {},
   "outputs": [],
   "source": [
    "name1 = 'PCD_OA_LSOA_MSOA_LAD_FEB20_UK_LU.csv'\n",
    "url1 = 'https://www.arcgis.com/sharing/rest/content/items/9a8866dd822c4f3d944b9497203ee5e5/data'\n",
    "if not os.path.exists(f'source/{name1}.zip'):\n",
    "    urllib.request.urlretrieve(url1, f'source/{name1}.zip')\n",
    "    with zipfile.ZipFile(f'source/{name1}.zip', 'r') as zipRef:\n",
    "        zipRef.extractall('source/')"
   ]
  },
  {
   "cell_type": "code",
   "execution_count": null,
   "metadata": {},
   "outputs": [],
   "source": [
    "# Set column names and datatype\n",
    "dtype = ({\n",
    "    'PCDS'    : str, # PCDS - one space between the district and sector-unit part of the postcode.\n",
    "    'OA11CD'  : str, # Output Area (Census 2011)\n",
    "    'LSOA11CD': str, # Lower Layer Super Output Areas Code (Census 2011)\n",
    "    'MSOA11CD': str, # Middle Layer Super Output Areas Code (Census 2011)\n",
    "    'MSOA11NM': str, # Middle Layer Super Output Areas (Census 2011))\n",
    "})\n",
    "\n",
    "# Define columns to read\n",
    "cols = [2, 6, 7, 8, 11]\n",
    "\n",
    "# Read data\n",
    "postcode_LSOA_df = pd.read_csv(\n",
    "    f'source/{name1}', usecols=cols, names=dtype.keys(), dtype=dtype, \n",
    "    skiprows=1, sep=',', encoding='latin-1').set_index('LSOA11CD')"
   ]
  },
  {
   "cell_type": "code",
   "execution_count": null,
   "metadata": {},
   "outputs": [],
   "source": [
    "# Function to run the whole code for postcodes attached to lsoas with IMD data\n",
    "\n",
    "def produce_LSOA_IMD(df):\n",
    "\n",
    "    # make sure formatting of postcode column matches the LSOA data\n",
    "    df['Incident Postcode'] = df['Incident Postcode'].str.upper()\n",
    "    \n",
    "    # fetch the IMD data\n",
    "    imd_data_path = fetch('https://assets.publishing.service.gov.uk/government/uploads/system/uploads/attachment_data/file/845345/File_7_-_All_IoD2019_Scores__Ranks__Deciles_and_Population_Denominators_3.csv', 'imd.csv')\n",
    "    imd_data_df = pd.read_csv(imd_data_path)\n",
    "\n",
    "    # merge df with postcode_LSOA\n",
    "    result_df = pd.merge(df, postcode_LSOA_df, left_on='Incident Postcode',right_on='pcds', how='left')\n",
    "\n",
    "    # merge df with the above merged df\n",
    "    new_df = pd.merge(df, result_df, left_on='Incident Postcode',right_on='pcds', how='left').drop(columns='pcds')\n",
    "\n",
    "    # final merge to produce the final_df\n",
    "    final_df = pd.merge(new_df, imd_data_df, left_on='lsoa11cd',right_on='LSOA code (2011)', how='left').drop(columns='lsoa11cd')\n",
    "\n",
    "    return final_df"
   ]
  },
  {
   "cell_type": "code",
   "execution_count": null,
   "metadata": {},
   "outputs": [],
   "source": [
    "# run the function\n",
    "\n",
    "produce_LSOA_IMD(df)"
   ]
  },
  {
   "cell_type": "code",
   "execution_count": null,
   "metadata": {},
   "outputs": [],
   "source": []
  }
 ],
 "metadata": {
  "kernelspec": {
   "display_name": "Python 3",
   "language": "python",
   "name": "python3"
  },
  "language_info": {
   "codemirror_mode": {
    "name": "ipython",
    "version": 3
   },
   "file_extension": ".py",
   "mimetype": "text/x-python",
   "name": "python",
   "nbconvert_exporter": "python",
   "pygments_lexer": "ipython3",
   "version": "3.8.15"
  },
  "orig_nbformat": 4,
  "vscode": {
   "interpreter": {
    "hash": "c3a8e9125af5f8e886989c6eda53a6eab92400bee754553e1ae8b0ae4f6718fa"
   }
  }
 },
 "nbformat": 4,
 "nbformat_minor": 2
}
